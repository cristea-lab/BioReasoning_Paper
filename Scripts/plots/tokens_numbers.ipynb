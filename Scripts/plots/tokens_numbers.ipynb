{
 "cells": [
  {
   "cell_type": "code",
   "execution_count": 1,
   "metadata": {},
   "outputs": [],
   "source": [
    "import json"
   ]
  },
  {
   "cell_type": "code",
   "execution_count": 2,
   "metadata": {},
   "outputs": [],
   "source": [
    "OUTPUT_PATH = \"/cristealab/xiwang/DSR1_Preprint/Outputs\""
   ]
  },
  {
   "cell_type": "code",
   "execution_count": null,
   "metadata": {},
   "outputs": [],
   "source": [
    "\n",
    "\n",
    "# List of NDJSON file paths\n",
    "file_paths = [\n",
    "    ## balanced tissues datasets\n",
    "    # short prompt r1\n",
    "    OUTPUT_PATH + \"/cellxgene_cutoff_8datasets_10k/responses/short_prompt_r1/100genes/r1_short_100gene_cellxgene_8datasets_10k.ndjson\",\n",
    "    OUTPUT_PATH + \"/cellxgene_cutoff_8datasets_10k/responses/short_prompt_r1/100genes_scGPTClassifier/r1_short_scGPTclassifier_cellxgene_8datasets_10k.ndjson\",\n",
    "    OUTPUT_PATH + \"/cellxgene_cutoff_8datasets_10k/responses/short_prompt_r1/100genes_scTabClassifier/r1_short_scTabClassifier_cellxgene_8datasets_10k.ndjson\",\n",
    "    # short prompt v3\n",
    "    OUTPUT_PATH + \"/cellxgene_cutoff_8datasets_10k/responses/short_prompt_v3/100genes.ndjson\",\n",
    "    OUTPUT_PATH + \"/cellxgene_cutoff_8datasets_10k/responses/short_prompt_v3/100_genesscGPTClassifier.ndjson\",\n",
    "    OUTPUT_PATH + \"/cellxgene_cutoff_8datasets_10k/responses/short_prompt_v3/100_genesscTabClassifier.ndjson\",\n",
    "\n",
    "\n",
    "    ## random 10k\n",
    "    # short prompt r1\n",
    "    OUTPUT_PATH + \"/cellxgene_cutoff_random_10k/responses/short_prompt_r1/100genes/100genes.ndjson\",\n",
    "    OUTPUT_PATH + \"/cellxgene_cutoff_random_10k/responses/short_prompt_r1/100genes_scGPTClassifier/100genes_scGPTClassifier.ndjson\",\n",
    "    OUTPUT_PATH + \"/cellxgene_cutoff_random_10k/responses/short_prompt_r1/100genes_scTabClassifier/100genes_scTabClassifier.ndjson\",\n",
    "    # short prompt v3\n",
    "    OUTPUT_PATH + \"/cellxgene_cutoff_random_10k/responses/short_prompt_v3/100genes/100genes.ndjson\",\n",
    "    OUTPUT_PATH + \"/cellxgene_cutoff_random_10k/responses/short_prompt_v3/100genes_scGPTClassifier/100genes_scGPTClassifier.ndjson\",\n",
    "    OUTPUT_PATH + \"/cellxgene_cutoff_random_10k/responses/short_prompt_v3/100genes_scTabClassifier/100genes_scTabClassifier.ndjson\",\n",
    "\n",
    "    ## scTab in-domain datasets 10k \n",
    "    # long prompts\n",
    "    OUTPUT_PATH + \"/scTab_10k/responses/long_prompt_r1/100genes/r1_100gene_10k_long_response.ndjson\",\n",
    "    OUTPUT_PATH + \"/scTab_10k/responses/long_prompt_r1/100genes_scTabClassifier/r1_long_scTabclassifier_10k.ndjson\",\n",
    "    OUTPUT_PATH + \"/scTab_10k/responses/long_prompt_v3/100genes/v3_100gene_10k_long_response.ndjson\",\n",
    "    OUTPUT_PATH + \"/scTab_10k/responses/long_prompt_v3/100genes/v3_100gene_10k_long_response.ndjson\",\n",
    "    OUTPUT_PATH + \"/scTab_10k/responses/long_prompt_v3/100genes_scTabClassifier/v3_100gene_classifier_long.ndjson\",\n",
    "\n",
    "    # short prompts\n",
    "    OUTPUT_PATH + \"/scTab_10k/responses/short_prompt_r1/100genes/r1_100gene_10k_short_response.ndjson\",\n",
    "    OUTPUT_PATH + \"/scTab_10k/responses/short_prompt_r1/100genes_scGPTClassifier/r1_short_scGPTClassifier.ndjson\",\n",
    "    OUTPUT_PATH + \"/scTab_10k/responses/short_prompt_r1/100genes_scTabClassifier/r1_short_scTabclassifier_10k.ndjson\",\n",
    "    OUTPUT_PATH + \"/scTab_10k/responses/short_prompt_v3/100genes/v3_100gene_10k_short_response.ndjson\",\n",
    "    OUTPUT_PATH + \"/scTab_10k/responses/short_prompt_v3/100genes_scTabClassifier/v3_100gene_classifier_short.ndjson\",\n",
    "    OUTPUT_PATH + \"/scTab_10k/responses/short_prompt_v3_0324/v3_0324_short.ndjson\",\n",
    "\n",
    "    ## Test number of genes\n",
    "    OUTPUT_PATH + \"/cellxgene_cutoff_random_1k_numer_of_genes_test/responses/responses_allnonzerogenes.ndjson\",\n",
    "    OUTPUT_PATH + \"/cellxgene_cutoff_random_1k_numer_of_genes_test/responses/responses_top5genes.ndjson\",\n",
    "    OUTPUT_PATH + \"/cellxgene_cutoff_random_1k_numer_of_genes_test/responses/responses_top10genes.ndjson\",\n",
    "    OUTPUT_PATH + \"/cellxgene_cutoff_random_1k_numer_of_genes_test/responses/responses_top25genes.ndjson\",\n",
    "    OUTPUT_PATH + \"/cellxgene_cutoff_random_1k_numer_of_genes_test/responses/responses_top50genes.ndjson\",\n",
    "    OUTPUT_PATH + \"/cellxgene_cutoff_random_1k_numer_of_genes_test/responses/responses_top100genes.ndjson\",\n",
    "    OUTPUT_PATH + \"/cellxgene_cutoff_random_1k_numer_of_genes_test/responses/responses_top200genes.ndjson\",\n",
    "    OUTPUT_PATH + \"/cellxgene_cutoff_random_1k_numer_of_genes_test/responses/responses_top500genes.ndjson\",\n",
    "    OUTPUT_PATH + \"/cellxgene_cutoff_random_1k_numer_of_genes_test/responses/responses_top1000genes.ndjson\",\n",
    "    OUTPUT_PATH + \"/cellxgene_cutoff_random_1k_numer_of_genes_test/responses/responses_top2000genes.ndjson\",\n",
    "\n",
    "\n",
    "\n",
    "    ### Cluster-level\n",
    "    OUTPUT_PATH + \"/GPT4Paper_Clusters/responses/prompts/r1_long/responses_long.ndjson\",\n",
    "    OUTPUT_PATH + \"/GPT4Paper_Clusters/responses/prompts/r1_short/responses.ndjson\",\n",
    "    OUTPUT_PATH + \"/GPT4Paper_Clusters/responses/prompts/v3_long/responses_long.ndjson\",\n",
    "    OUTPUT_PATH + \"/GPT4Paper_Clusters/responses/prompts/v3_short/responses.ndjson\"\n",
    "]\n",
    "\n"
   ]
  },
  {
   "cell_type": "code",
   "execution_count": 6,
   "metadata": {},
   "outputs": [],
   "source": [
    "# Counters for total tokens\n",
    "total_prompt_tokens = 0\n",
    "total_reasoning_tokens = 0\n",
    "total_completion_tokens = 0\n",
    "\n",
    "\n",
    "# Counter for total entries\n",
    "total_entries = 0"
   ]
  },
  {
   "cell_type": "code",
   "execution_count": 7,
   "metadata": {},
   "outputs": [
    {
     "name": "stdout",
     "output_type": "stream",
     "text": [
      "Total entries:           226520\n",
      "Total prompt tokens:     303258493\n",
      "Total reasoning tokens:  113925109\n",
      "Total completion tokens: 145326372\n"
     ]
    }
   ],
   "source": [
    "for file_path in file_paths:\n",
    "    with open(file_path, \"r\", encoding=\"utf-8\") as f:\n",
    "        for line in f:\n",
    "            total_entries += 1\n",
    "            # Each line in NDJSON is a separate JSON object\n",
    "            data = json.loads(line)\n",
    "            \n",
    "            # Safely get the token counts (default to 0 if key is missing)\n",
    "            total_prompt_tokens += data.get(\"prompt_token\", 0)\n",
    "            total_reasoning_tokens += data.get(\"reasoning_token\", 0)\n",
    "            total_completion_tokens += data.get(\"completion_token\", 0)\n",
    "\n",
    "print(\"Total entries:          \", total_entries)\n",
    "print(\"Total prompt tokens:    \", total_prompt_tokens)\n",
    "print(\"Total reasoning tokens: \", total_reasoning_tokens)\n",
    "print(\"Total completion tokens:\", total_completion_tokens)"
   ]
  }
 ],
 "metadata": {
  "kernelspec": {
   "display_name": "llm_sc_benchmark",
   "language": "python",
   "name": "python3"
  },
  "language_info": {
   "codemirror_mode": {
    "name": "ipython",
    "version": 3
   },
   "file_extension": ".py",
   "mimetype": "text/x-python",
   "name": "python",
   "nbconvert_exporter": "python",
   "pygments_lexer": "ipython3",
   "version": "3.10.16"
  }
 },
 "nbformat": 4,
 "nbformat_minor": 2
}
