{
 "cells": [
  {
   "cell_type": "code",
   "execution_count": 1,
   "metadata": {},
   "outputs": [],
   "source": [
    "import scanpy as sc\n",
    "import numpy as np"
   ]
  },
  {
   "cell_type": "code",
   "execution_count": 2,
   "metadata": {},
   "outputs": [
    {
     "name": "stderr",
     "output_type": "stream",
     "text": [
      "/cristealab/xiwang/miniconda3/envs/llm_sc_benchmark/lib/python3.10/site-packages/anndata/_core/anndata.py:1756: UserWarning: Observation names are not unique. To make them unique, call `.obs_names_make_unique`.\n",
      "  utils.warn_names_duplicates(\"obs\")\n"
     ]
    }
   ],
   "source": [
    "adata = sc.read_h5ad(\"/cristealab/xiwang/CellXGene/normal_after_20230515/merged_h5ad/merged_normal.h5ad\")"
   ]
  },
  {
   "cell_type": "code",
   "execution_count": 3,
   "metadata": {},
   "outputs": [
    {
     "data": {
      "text/plain": [
       "AnnData object with n_obs × n_vars = 7974542 × 60530\n",
       "    obs: 'soma_joinid', 'dataset_id', 'assay', 'assay_ontology_term_id', 'cell_type', 'cell_type_ontology_term_id', 'development_stage', 'development_stage_ontology_term_id', 'disease', 'disease_ontology_term_id', 'donor_id', 'is_primary_data', 'observation_joinid', 'self_reported_ethnicity', 'self_reported_ethnicity_ontology_term_id', 'sex', 'sex_ontology_term_id', 'suspension_type', 'tissue', 'tissue_ontology_term_id', 'tissue_type', 'tissue_general', 'tissue_general_ontology_term_id', 'raw_sum', 'nnz', 'raw_mean_nnz', 'raw_variance_nnz', 'n_measured_vars'\n",
       "    var: 'soma_joinid', 'feature_id', 'feature_name', 'feature_length', 'nnz', 'n_measured_obs'"
      ]
     },
     "execution_count": 3,
     "metadata": {},
     "output_type": "execute_result"
    }
   ],
   "source": [
    "adata"
   ]
  },
  {
   "cell_type": "code",
   "execution_count": 4,
   "metadata": {},
   "outputs": [
    {
     "name": "stderr",
     "output_type": "stream",
     "text": [
      "/cristealab/xiwang/miniconda3/envs/llm_sc_benchmark/lib/python3.10/site-packages/anndata/_core/anndata.py:1756: UserWarning: Observation names are not unique. To make them unique, call `.obs_names_make_unique`.\n",
      "  utils.warn_names_duplicates(\"obs\")\n"
     ]
    },
    {
     "name": "stdout",
     "output_type": "stream",
     "text": [
      "Subset (all cells) AnnData: AnnData object with n_obs × n_vars = 1901333 × 60530\n",
      "    obs: 'soma_joinid', 'dataset_id', 'assay', 'assay_ontology_term_id', 'cell_type', 'cell_type_ontology_term_id', 'development_stage', 'development_stage_ontology_term_id', 'disease', 'disease_ontology_term_id', 'donor_id', 'is_primary_data', 'observation_joinid', 'self_reported_ethnicity', 'self_reported_ethnicity_ontology_term_id', 'sex', 'sex_ontology_term_id', 'suspension_type', 'tissue', 'tissue_ontology_term_id', 'tissue_type', 'tissue_general', 'tissue_general_ontology_term_id', 'raw_sum', 'nnz', 'raw_mean_nnz', 'raw_variance_nnz', 'n_measured_vars', 'pair'\n",
      "    var: 'soma_joinid', 'feature_id', 'feature_name', 'feature_length', 'nnz', 'n_measured_obs'\n",
      "Saved '/cristealab/xiwang/Outputs/llm_sc_benchmark/cellxgene_val_samples_datasets/h5ad/subset_all_cells.h5ad'\n"
     ]
    }
   ],
   "source": [
    "# -------------------------------------------------------------------\n",
    "# 2. Define the (dataset_id, tissue) pairs you want to keep\n",
    "# -------------------------------------------------------------------\n",
    "desired_pairs = [\n",
    "    (\"d6505c89-c43d-4c28-8c4f-7351a5fd5528\", \"peripheral region of retina\"),\n",
    "    (\"1a38e762-2465-418f-b81c-6a4bce261c34\", \"cerebral cortex\"),\n",
    "    (\"2c820d53-cbd7-4c28-8c4f-7351a5fd5528\", \"blood\"),\n",
    "    (\"55003f67-c494-46f1-83fb-902745646379\", \"breast\"),\n",
    "    (\"093d3bfe-6f0f-4ac0-a7a1-829f94d0a49f\", \"lung\"),\n",
    "    (\"093d3bfe-6f0f-4ac0-a7a1-829f94d0a49f\", \"trachea\"),\n",
    "    (\"bab7432a-5cfe-45ea-928c-422d03c45cdd\", \"cerebellum\"),\n",
    "    (\"5af90777-6760-4003-9dba-8f945fec6fdf\", \"kidney\"),\n",
    "    (\"965386e9-1e4f-466d-bf59-ebdca4b66b9b\", \"bone marrow\"),\n",
    "]\n",
    "\n",
    "# -------------------------------------------------------------------\n",
    "# 3. Subset to these pairs (ALL cells)\n",
    "# -------------------------------------------------------------------\n",
    "# Create a helper column that combines dataset_id and tissue into a tuple\n",
    "adata.obs[\"pair\"] = list(zip(adata.obs[\"dataset_id\"], adata.obs[\"tissue\"]))\n",
    "\n",
    "# Convert desired pairs to a set for faster membership checks\n",
    "desired_pairs_set = set(desired_pairs)\n",
    "\n",
    "# Build a boolean mask for the desired pairs\n",
    "mask = adata.obs[\"pair\"].isin(desired_pairs_set)\n",
    "adata_subset_all = adata[mask].copy()\n",
    "print(f\"Subset (all cells) AnnData: {adata_subset_all}\")\n",
    "\n",
    "# Drop the helper column if you like\n",
    "adata_subset_all.obs.drop(columns=[\"pair\"], inplace=True)\n",
    "\n",
    "# Save the subset with all cells\n",
    "adata_subset_all.write_h5ad(\"/cristealab/xiwang/Outputs/llm_sc_benchmark/cellxgene_val_samples_datasets/h5ad/subset_all_cells.h5ad\")\n",
    "print(\"Saved '/cristealab/xiwang/Outputs/llm_sc_benchmark/cellxgene_val_samples_datasets/h5ad/subset_all_cells.h5ad'\")\n"
   ]
  },
  {
   "cell_type": "code",
   "execution_count": 4,
   "metadata": {},
   "outputs": [
    {
     "name": "stderr",
     "output_type": "stream",
     "text": [
      "/cristealab/xiwang/miniconda3/envs/llm_sc_benchmark/lib/python3.10/site-packages/anndata/_core/anndata.py:1756: UserWarning: Observation names are not unique. To make them unique, call `.obs_names_make_unique`.\n",
      "  utils.warn_names_duplicates(\"obs\")\n"
     ]
    }
   ],
   "source": [
    "adata_subset_all = sc.read_h5ad(\"/cristealab/xiwang/Outputs/llm_sc_benchmark/cellxgene_val_samples_datasets/subset_all_cells/h5ad/subset_all_cells.h5ad\")"
   ]
  },
  {
   "cell_type": "code",
   "execution_count": 5,
   "metadata": {},
   "outputs": [],
   "source": [
    "desired_pairs = [\n",
    "    (\"d6505c89-c43d-4c28-8c4f-7351a5fd5528\", \"peripheral region of retina\"),\n",
    "    (\"1a38e762-2465-418f-b81c-6a4bce261c34\", \"cerebral cortex\"),\n",
    "    (\"2c820d53-cbd7-4c28-8c4f-7351a5fd5528\", \"blood\"),\n",
    "    (\"55003f67-c494-46f1-83fb-902745646379\", \"breast\"),\n",
    "    (\"093d3bfe-6f0f-4ac0-a7a1-829f94d0a49f\", \"lung\"),\n",
    "    (\"093d3bfe-6f0f-4ac0-a7a1-829f94d0a49f\", \"trachea\"),\n",
    "    (\"bab7432a-5cfe-45ea-928c-422d03c45cdd\", \"cerebellum\"),\n",
    "    (\"5af90777-6760-4003-9dba-8f945fec6fdf\", \"kidney\"),\n",
    "    (\"965386e9-1e4f-466d-bf59-ebdca4b66b9b\", \"bone marrow\"),\n",
    "]"
   ]
  },
  {
   "cell_type": "code",
   "execution_count": 6,
   "metadata": {},
   "outputs": [
    {
     "name": "stdout",
     "output_type": "stream",
     "text": [
      "(d6505c89-c43d-4c28-8c4f-7351a5fd5528, peripheral region of retina): took 1250 cells (of 1062127).\n",
      "(1a38e762-2465-418f-b81c-6a4bce261c34, cerebral cortex): took 1250 cells (of 39256).\n",
      "No cells found for (2c820d53-cbd7-4c28-8c4f-7351a5fd5528, blood) — skipping.\n",
      "(55003f67-c494-46f1-83fb-902745646379, breast): took 1250 cells (of 551770).\n",
      "(093d3bfe-6f0f-4ac0-a7a1-829f94d0a49f, lung): took 1250 cells (of 46325).\n",
      "(093d3bfe-6f0f-4ac0-a7a1-829f94d0a49f, trachea): took 1250 cells (of 28392).\n",
      "(bab7432a-5cfe-45ea-928c-422d03c45cdd, cerebellum): took 1250 cells (of 128695).\n",
      "(5af90777-6760-4003-9dba-8f945fec6fdf, kidney): took 1250 cells (of 11838).\n",
      "(965386e9-1e4f-466d-bf59-ebdca4b66b9b, bone marrow): took 1250 cells (of 32930).\n"
     ]
    },
    {
     "name": "stderr",
     "output_type": "stream",
     "text": [
      "/tmp/ipykernel_186107/2294434225.py:41: FutureWarning: Use anndata.concat instead of AnnData.concatenate, AnnData.concatenate is deprecated and will be removed in the future. See the tutorial for concat at: https://anndata.readthedocs.io/en/latest/concatenation.html\n",
      "  adata_subset_1k = sampled_list[0].concatenate(\n",
      "/cristealab/xiwang/miniconda3/envs/llm_sc_benchmark/lib/python3.10/site-packages/anndata/_core/anndata.py:1756: UserWarning: Observation names are not unique. To make them unique, call `.obs_names_make_unique`.\n",
      "  utils.warn_names_duplicates(\"obs\")\n",
      "/cristealab/xiwang/miniconda3/envs/llm_sc_benchmark/lib/python3.10/site-packages/anndata/_core/anndata.py:1756: UserWarning: Observation names are not unique. To make them unique, call `.obs_names_make_unique`.\n",
      "  utils.warn_names_duplicates(\"obs\")\n",
      "/cristealab/xiwang/miniconda3/envs/llm_sc_benchmark/lib/python3.10/site-packages/anndata/_core/anndata.py:1756: UserWarning: Observation names are not unique. To make them unique, call `.obs_names_make_unique`.\n",
      "  utils.warn_names_duplicates(\"obs\")\n",
      "/cristealab/xiwang/miniconda3/envs/llm_sc_benchmark/lib/python3.10/site-packages/anndata/_core/anndata.py:1756: UserWarning: Observation names are not unique. To make them unique, call `.obs_names_make_unique`.\n",
      "  utils.warn_names_duplicates(\"obs\")\n"
     ]
    },
    {
     "name": "stdout",
     "output_type": "stream",
     "text": [
      "Final sampled AnnData: AnnData object with n_obs × n_vars = 10000 × 60530\n",
      "    obs: 'soma_joinid', 'dataset_id', 'assay', 'assay_ontology_term_id', 'cell_type', 'cell_type_ontology_term_id', 'development_stage', 'development_stage_ontology_term_id', 'disease', 'disease_ontology_term_id', 'donor_id', 'is_primary_data', 'observation_joinid', 'self_reported_ethnicity', 'self_reported_ethnicity_ontology_term_id', 'sex', 'sex_ontology_term_id', 'suspension_type', 'tissue', 'tissue_ontology_term_id', 'tissue_type', 'tissue_general', 'tissue_general_ontology_term_id', 'raw_sum', 'nnz', 'raw_mean_nnz', 'raw_variance_nnz', 'n_measured_vars', 'sample_source'\n",
      "    var: 'soma_joinid', 'feature_id', 'feature_name', 'feature_length', 'nnz', 'n_measured_obs'\n",
      "Saved '/cristealab/xiwang/DSR1_Preprint/Outputs/cellxgene_cutoff_8datasets_10k/h5ad/subset_10k_cells.h5ad'\n"
     ]
    }
   ],
   "source": [
    "# -------------------------------------------------------------------\n",
    "# 4. Randomly sample up to 1,000 cells from each pair (recreating 'pair' if dropped)\n",
    "# -------------------------------------------------------------------\n",
    "# If you dropped 'pair' above, uncomment:\n",
    "# adata_subset_all.obs[\"pair\"] = list(zip(adata_subset_all.obs[\"dataset_id\"], \n",
    "#                                         adata_subset_all.obs[\"tissue\"]))\n",
    "\n",
    "rng = np.random.default_rng(seed=42)  # For reproducibility\n",
    "sampled_list = []\n",
    "\n",
    "for dset_id, tissue_type in desired_pairs:\n",
    "    # Filter for cells belonging to this (dataset_id, tissue)\n",
    "    pair_mask = (\n",
    "        (adata_subset_all.obs[\"dataset_id\"] == dset_id) &\n",
    "        (adata_subset_all.obs[\"tissue\"] == tissue_type)\n",
    "    )\n",
    "    adata_pair = adata_subset_all[pair_mask]\n",
    "\n",
    "    n_obs = adata_pair.n_obs\n",
    "    if n_obs == 0:\n",
    "        print(f\"No cells found for ({dset_id}, {tissue_type}) — skipping.\")\n",
    "        continue\n",
    "\n",
    "    # We want up to 1,000 cells\n",
    "    n_take = min(1250, n_obs)\n",
    "    selected_indices = rng.choice(n_obs, size=n_take, replace=False)\n",
    "    \n",
    "    # Create the sampled subset\n",
    "    adata_sampled = adata_pair[selected_indices, :].copy()\n",
    "    sampled_list.append(adata_sampled)\n",
    "    print(f\"({dset_id}, {tissue_type}): took {n_take} cells (of {n_obs}).\")\n",
    "\n",
    "# -------------------------------------------------------------------\n",
    "# 5. Concatenate all sampled subsets and save\n",
    "# -------------------------------------------------------------------\n",
    "if len(sampled_list) == 0:\n",
    "    raise ValueError(\"No data was sampled. Please check your pairs or source data.\")\n",
    "\n",
    "# Use scanpy's concatenate. Each subset is assigned a 'batch' category.\n",
    "batch_categories = [f\"{p[0]}_{p[1]}\" for p in desired_pairs]\n",
    "adata_subset_1k = sampled_list[0].concatenate(\n",
    "    *sampled_list[1:], \n",
    "    join=\"outer\", \n",
    "    batch_key=\"sample_source\",\n",
    "    batch_categories=batch_categories\n",
    ")\n",
    "\n",
    "# Drop the helper column if present\n",
    "if \"pair\" in adata_subset_1k.obs:\n",
    "    adata_subset_1k.obs.drop(columns=[\"pair\"], inplace=True)\n",
    "\n",
    "print(f\"Final sampled AnnData: {adata_subset_1k}\")\n",
    "adata_subset_1k.write_h5ad(\"/cristealab/xiwang/DSR1_Preprint/Outputs/cellxgene_cutoff_8datasets_10k/h5ad/subset_10k_cells.h5ad\")\n",
    "print(\"Saved '/cristealab/xiwang/DSR1_Preprint/Outputs/cellxgene_cutoff_8datasets_10k/h5ad/subset_10k_cells.h5ad'\")"
   ]
  },
  {
   "cell_type": "code",
   "execution_count": 6,
   "metadata": {},
   "outputs": [
    {
     "data": {
      "text/plain": [
       "AnnData object with n_obs × n_vars = 8000 × 60530\n",
       "    obs: 'soma_joinid', 'dataset_id', 'assay', 'assay_ontology_term_id', 'cell_type', 'cell_type_ontology_term_id', 'development_stage', 'development_stage_ontology_term_id', 'disease', 'disease_ontology_term_id', 'donor_id', 'is_primary_data', 'observation_joinid', 'self_reported_ethnicity', 'self_reported_ethnicity_ontology_term_id', 'sex', 'sex_ontology_term_id', 'suspension_type', 'tissue', 'tissue_ontology_term_id', 'tissue_type', 'tissue_general', 'tissue_general_ontology_term_id', 'raw_sum', 'nnz', 'raw_mean_nnz', 'raw_variance_nnz', 'n_measured_vars', 'sample_source'\n",
       "    var: 'soma_joinid', 'feature_id', 'feature_name', 'feature_length', 'nnz', 'n_measured_obs'"
      ]
     },
     "execution_count": 6,
     "metadata": {},
     "output_type": "execute_result"
    }
   ],
   "source": [
    "adata_subset_1k"
   ]
  }
 ],
 "metadata": {
  "kernelspec": {
   "display_name": "llm_sc_benchmark",
   "language": "python",
   "name": "python3"
  },
  "language_info": {
   "codemirror_mode": {
    "name": "ipython",
    "version": 3
   },
   "file_extension": ".py",
   "mimetype": "text/x-python",
   "name": "python",
   "nbconvert_exporter": "python",
   "pygments_lexer": "ipython3",
   "version": "3.10.16"
  }
 },
 "nbformat": 4,
 "nbformat_minor": 2
}
